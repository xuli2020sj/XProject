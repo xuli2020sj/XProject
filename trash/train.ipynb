{
 "cells": [
  {
   "cell_type": "code",
   "execution_count": null,
   "metadata": {
    "collapsed": true
   },
   "outputs": [],
   "source": []
  },
  {
   "cell_type": "code",
   "execution_count": 2,
   "outputs": [],
   "source": [
    "import numpy as np\n",
    "import pandas as pd\n",
    "import torch\n",
    "import torch.nn as nn\n",
    "import matplotlib.pyplot as plt\n",
    "import seaborn as sns\n",
    "import torchvision.transforms as transforms\n",
    "from torch.utils.data import Dataset, DataLoader\n",
    "\n",
    "device = 'cuda' if torch.cuda.is_available() else 'cpu'\n",
    "\n",
    "class Mydata(Dataset):\n",
    "    def __init__(self, x, y):\n",
    "        super(Mydata, self).__init__()\n",
    "        self.x = x\n",
    "        self.y = y\n",
    "\n",
    "    def __getitem__(self, index):\n",
    "        x_sample = self.x[index]\n",
    "        y_sample = self.y[index]\n",
    "        return torch.Tensor(x_sample), torch.Tensor(y_sample)\n",
    "\n",
    "    def __len__(self):\n",
    "        return len(self.x)\n",
    "\n",
    "\n",
    "class Mymodel(nn.Module):\n",
    "    def __init__(self, length):\n",
    "        super(Mymodel, self).__init__()\n",
    "        in_node = length\n",
    "        out_node = 1\n",
    "        self.net = nn.Sequential(\n",
    "            nn.Linear(length, 64),\n",
    "            nn.Mish(inplace=True),\n",
    "            nn.Linear(64, 1000),\n",
    "            nn.Mish(inplace=True),\n",
    "            nn.Linear(1000, 1000),\n",
    "            nn.Mish(inplace=True),\n",
    "            nn.Dropout(0.2),\n",
    "            nn.Linear(1000, 1000),\n",
    "            nn.Mish(inplace=True),\n",
    "            nn.Dropout(0.2),\n",
    "            nn.Linear(1000, 1000),\n",
    "            nn.Mish(inplace=True),\n",
    "            nn.Dropout(0.2),\n",
    "            nn.Linear(1000, 1)\n",
    "        )\n",
    "\n",
    "    def forward(self, x):\n",
    "        out = self.net(x)\n",
    "        # out = self.fc(out)\n",
    "        return out\n",
    "\n",
    "\n",
    "def Get_loader(inputs, outputs, batch_size, val_split=0.2):\n",
    "    nums = len(inputs)\n",
    "    x_train = inputs[int(val_split * nums):]\n",
    "    y_train = outputs[int(val_split * nums):]\n",
    "    x_val = inputs[0:int(val_split * nums)]\n",
    "    y_val = outputs[0:int(val_split * nums)]\n",
    "    train_data = Mydata(x_train, y_train)\n",
    "    train_loader = DataLoader(train_data, batch_size, shuffle=True, drop_last=True)\n",
    "    val_data = Mydata(x_val, y_val)\n",
    "    val_loader = DataLoader(val_data, batch_size, shuffle=False, drop_last=True)\n",
    "    return train_loader, val_loader"
   ],
   "metadata": {
    "collapsed": false,
    "pycharm": {
     "name": "#%%\n"
    }
   }
  },
  {
   "cell_type": "code",
   "execution_count": null,
   "outputs": [],
   "source": [
    "def show(model, predict_df_):\n",
    "    df = np.array(predict_df_)\n",
    "    inputs = df[:, [2, 4]]\n",
    "\n",
    "    acutal_out = df[:, 5].reshape(-1, 1)\n",
    "    # plt.scatter(inputs[:[2]], acutal_out)\n",
    "\n",
    "    x =\n",
    "    y = [0.04652, 0.05954, 0.08803, 0.1221, 0.16585, 0.39169, 0.6617, 0.89806, 1.17324, 1.3325, 1.83608]\n",
    "\n",
    "    inputs_tensor = torch.Tensor(inputs)\n",
    "    model = model.to('cuda')\n",
    "    model_out = model(inputs_tensor.to('cuda')).cpu().data.numpy()\n",
    "    preision = (model_out - acutal_out) / acutal_out\n",
    "    plt.scatter(inputs_tensor.data.numpy()[:, [0]], preision, color='red', linewidth=0.5)\n",
    "    plt.scatter(inputs[:, [0]], acutal_out, color='y')\n",
    "    plt.scatter(inputs[:, [0]], model_out, color='g')\n",
    "    plt.show()"
   ],
   "metadata": {
    "collapsed": false,
    "pycharm": {
     "name": "#%%\n"
    }
   }
  }
 ],
 "metadata": {
  "kernelspec": {
   "display_name": "Python 3",
   "language": "python",
   "name": "python3"
  },
  "language_info": {
   "codemirror_mode": {
    "name": "ipython",
    "version": 2
   },
   "file_extension": ".py",
   "mimetype": "text/x-python",
   "name": "python",
   "nbconvert_exporter": "python",
   "pygments_lexer": "ipython2",
   "version": "2.7.6"
  }
 },
 "nbformat": 4,
 "nbformat_minor": 0
}