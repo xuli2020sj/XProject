{
 "cells": [
  {
   "cell_type": "code",
   "execution_count": 1,
   "metadata": {
    "collapsed": true
   },
   "outputs": [],
   "source": [
    "import numpy as np"
   ]
  },
  {
   "cell_type": "markdown",
   "source": [
    "体素划分[3,5,2]\n",
    "A  活度矩阵       [3, 5]\n",
    "CE 发射计数率矩阵  [3, 5]\n",
    "F  探测效率矩阵    [5, 3]\n",
    "CE = A * F\n",
    "A = CE * F^-1"
   ],
   "metadata": {
    "collapsed": false,
    "pycharm": {
     "name": "#%% md\n"
    }
   }
  },
  {
   "cell_type": "code",
   "execution_count": 24,
   "outputs": [
    {
     "name": "stdout",
     "output_type": "stream",
     "text": [
      "[[0. 0. 0. 0.]\n",
      " [0. 0. 0. 0.]\n",
      " [0. 0. 0. 0.]]\n",
      "[[  0. 149. 140. 121.   0.]\n",
      " [  0. 131. 978. 122.   0.]\n",
      " [  0. 122. 143. 131.   0.]]\n"
     ]
    }
   ],
   "source": [
    "CE = np.array([(0,\t7.45E-07,\t7.00E-07,\t6.05E-07,\t0.00E+00),\n",
    "              (0,\t6.55E-07,\t4.89E-06,\t6.10E-07,\t0),\n",
    "              (0,\t6.10E-07,\t7.15E-07,\t6.55E-07,\t0.00E+00)])\n",
    "\n",
    "F = np.array([(0,\t7.45E-07,\t7.00E-07,\t6.05E-07,\t0.00E+00),\n",
    "              (0,\t6.55E-07,\t4.89E-06,\t6.10E-07,\t0),\n",
    "              (0,\t6.10E-07,\t7.15E-07,\t6.55E-07,\t0.00E+00)])\n",
    "\n",
    "A = np.zeros([3,4])\n",
    "\n",
    "E = np.zeros([3,5])\n",
    "\n",
    "\n",
    "\n",
    "\n",
    "a = np.array([[1, 2], [3, 5]])\n",
    "b = np.array([1, 2])\n",
    "x = np.linalg.solve(a, b)\n",
    "\n",
    "CE = CE * 1e8 *2\n",
    "print(CE)"
   ],
   "metadata": {
    "collapsed": false,
    "pycharm": {
     "name": "#%%\n"
    }
   }
  }
 ],
 "metadata": {
  "kernelspec": {
   "display_name": "Python 3",
   "language": "python",
   "name": "python3"
  },
  "language_info": {
   "codemirror_mode": {
    "name": "ipython",
    "version": 2
   },
   "file_extension": ".py",
   "mimetype": "text/x-python",
   "name": "python",
   "nbconvert_exporter": "python",
   "pygments_lexer": "ipython2",
   "version": "2.7.6"
  }
 },
 "nbformat": 4,
 "nbformat_minor": 0
}