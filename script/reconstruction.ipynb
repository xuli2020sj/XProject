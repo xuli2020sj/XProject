{
 "cells": [
  {
   "cell_type": "code",
   "execution_count": 107,
   "metadata": {
    "collapsed": true
   },
   "outputs": [],
   "source": [
    "import datetime\n",
    "import os\n",
    "import numpy as np\n",
    "import re"
   ]
  },
  {
   "cell_type": "markdown",
   "source": [
    "体素划分[3,5,2]\n",
    "A  活度矩阵       [3, 5]\n",
    "CE 发射计数率矩阵  [3, 5]\n",
    "F  探测效率矩阵    [5, 3]\n",
    "CE = A * F\n",
    "A = CE * F^-1"
   ],
   "metadata": {
    "collapsed": false,
    "pycharm": {
     "name": "#%% md\n"
    }
   }
  },
  {
   "cell_type": "code",
   "execution_count": 108,
   "outputs": [],
   "source": [
    "# 文件路径\n",
    "file_dir = r'C:\\Users\\X\\PycharmProjects\\XProject\\macScript'\n",
    "curr_time = str(datetime.date.today())\n",
    "mk_dir = file_dir + curr_time\n",
    "\n",
    "# 测量参数\n",
    "distance = 500 #探测器与钢箱距离\n",
    "gridNumOfX = 5\n",
    "gridNumOfY = 4\n",
    "gridNumOfZ = 3\n",
    "XLength = 2438\n",
    "YLength = 1926\n",
    "ZLength = 1331\n",
    "\n",
    "xCellLength = XLength / gridNumOfX\n",
    "xHalfCellLength = XLength / gridNumOfX / 2\n",
    "yCellLength = YLength / gridNumOfY\n",
    "yHalfCellLength = YLength / gridNumOfY / 2\n",
    "zCellLength = ZLength / gridNumOfZ\n",
    "zHalfCellLength = ZLength / gridNumOfZ / 2"
   ],
   "metadata": {
    "collapsed": false,
    "pycharm": {
     "name": "#%%\n"
    }
   }
  },
  {
   "cell_type": "code",
   "execution_count": 109,
   "outputs": [],
   "source": [
    "xPos = np.arange(0, XLength, XLength / gridNumOfX).reshape(1, gridNumOfX)\n",
    "xPos += xCellLength / 2\n",
    "yPos = np.arange(0, YLength, YLength / gridNumOfY).reshape(1, gridNumOfY)\n",
    "yPos += yCellLength / 2 + distance\n",
    "zPos = np.arange(0, ZLength, ZLength / gridNumOfZ).reshape(1, gridNumOfZ)\n",
    "zPos += zCellLength / 2\n",
    "# 网格中心坐标\n",
    "pos = np.zeros((gridNumOfX, gridNumOfY, gridNumOfZ, 3))\n",
    "for x in range(0, gridNumOfX):\n",
    "    for y in range(0, gridNumOfY):\n",
    "        for z in range(0, gridNumOfZ):\n",
    "            pos[x][y][z][0] = xPos[0][x]\n",
    "            pos[x][y][z][1] = yPos[0][y]\n",
    "            pos[x][y][z][2] = zPos[0][z]"
   ],
   "metadata": {
    "collapsed": false,
    "pycharm": {
     "name": "#%%\n"
    }
   }
  },
  {
   "cell_type": "markdown",
   "source": [],
   "metadata": {
    "collapsed": false
   }
  },
  {
   "cell_type": "code",
   "execution_count": 109,
   "outputs": [],
   "source": [],
   "metadata": {
    "collapsed": false,
    "pycharm": {
     "name": "#%%\n"
    }
   }
  },
  {
   "cell_type": "code",
   "execution_count": 110,
   "outputs": [],
   "source": [
    "def gen_point_list(num=21, x_start=0,x_end=100,y_start=0,y_end=200,z_start=0,z_end=100):\n",
    "    str_point_list = []\n",
    "    gps_point_x = np.linspace(x_start, x_end, num).reshape(-1,1)\n",
    "    gps_point_y = np.linspace(y_start, y_end, num).reshape(-1,1)\n",
    "    gps_point_z = np.linspace(z_start, z_end, num).reshape(-1,1)\n",
    "    gps_point = np.concatenate((gps_point_x,gps_point_y,gps_point_z), axis=1)\n",
    "    for pos in gps_point:\n",
    "        str_point = str(pos[0]) +' ' +  str(pos[1]) + ' ' + str(pos[2]) +' ' + 'mm\\n'\n",
    "        str_point_list.append(str_point)\n",
    "    return str_point_list\n",
    "\n"
   ],
   "metadata": {
    "collapsed": false,
    "pycharm": {
     "name": "#%%\n"
    }
   }
  },
  {
   "cell_type": "code",
   "execution_count": 111,
   "outputs": [
    {
     "name": "stdout",
     "output_type": "stream",
     "text": [
      "['/HPGe_simulation/det/setDetectorMoveX 243.8\\n/HPGe_simulation/det/setDetectorMoveY 0\\n/HPGe_simulation/det/setDetectorMoveZ 221.83333333333334\\n', '/HPGe_simulation/det/setDetectorMoveX 243.8\\n/HPGe_simulation/det/setDetectorMoveY 0\\n/HPGe_simulation/det/setDetectorMoveZ 665.5\\n', '/HPGe_simulation/det/setDetectorMoveX 243.8\\n/HPGe_simulation/det/setDetectorMoveY 0\\n/HPGe_simulation/det/setDetectorMoveZ 1109.1666666666667\\n', '/HPGe_simulation/det/setDetectorMoveX 731.4000000000001\\n/HPGe_simulation/det/setDetectorMoveY 0\\n/HPGe_simulation/det/setDetectorMoveZ 221.83333333333334\\n', '/HPGe_simulation/det/setDetectorMoveX 731.4000000000001\\n/HPGe_simulation/det/setDetectorMoveY 0\\n/HPGe_simulation/det/setDetectorMoveZ 665.5\\n', '/HPGe_simulation/det/setDetectorMoveX 731.4000000000001\\n/HPGe_simulation/det/setDetectorMoveY 0\\n/HPGe_simulation/det/setDetectorMoveZ 1109.1666666666667\\n', '/HPGe_simulation/det/setDetectorMoveX 1219.0\\n/HPGe_simulation/det/setDetectorMoveY 0\\n/HPGe_simulation/det/setDetectorMoveZ 221.83333333333334\\n', '/HPGe_simulation/det/setDetectorMoveX 1219.0\\n/HPGe_simulation/det/setDetectorMoveY 0\\n/HPGe_simulation/det/setDetectorMoveZ 665.5\\n', '/HPGe_simulation/det/setDetectorMoveX 1219.0\\n/HPGe_simulation/det/setDetectorMoveY 0\\n/HPGe_simulation/det/setDetectorMoveZ 1109.1666666666667\\n', '/HPGe_simulation/det/setDetectorMoveX 1706.6000000000001\\n/HPGe_simulation/det/setDetectorMoveY 0\\n/HPGe_simulation/det/setDetectorMoveZ 221.83333333333334\\n', '/HPGe_simulation/det/setDetectorMoveX 1706.6000000000001\\n/HPGe_simulation/det/setDetectorMoveY 0\\n/HPGe_simulation/det/setDetectorMoveZ 665.5\\n', '/HPGe_simulation/det/setDetectorMoveX 1706.6000000000001\\n/HPGe_simulation/det/setDetectorMoveY 0\\n/HPGe_simulation/det/setDetectorMoveZ 1109.1666666666667\\n', '/HPGe_simulation/det/setDetectorMoveX 2194.2000000000003\\n/HPGe_simulation/det/setDetectorMoveY 0\\n/HPGe_simulation/det/setDetectorMoveZ 221.83333333333334\\n', '/HPGe_simulation/det/setDetectorMoveX 2194.2000000000003\\n/HPGe_simulation/det/setDetectorMoveY 0\\n/HPGe_simulation/det/setDetectorMoveZ 665.5\\n', '/HPGe_simulation/det/setDetectorMoveX 2194.2000000000003\\n/HPGe_simulation/det/setDetectorMoveY 0\\n/HPGe_simulation/det/setDetectorMoveZ 1109.1666666666667\\n']\n"
     ]
    }
   ],
   "source": [
    "def gen_dec_list(pos=pos):\n",
    "    str_detector_x = \"/HPGe_simulation/det/setDetectorMoveX \"\n",
    "    str_detector_y = \"/HPGe_simulation/det/setDetectorMoveY \"\n",
    "    str_detector_z = \"/HPGe_simulation/det/setDetectorMoveZ \"\n",
    "    str_dec_list = []\n",
    "    dec_pos = pos[:,0,:,:].reshape(15,-1)\n",
    "    for dpos in dec_pos:\n",
    "        str_point = str_detector_x + str(dpos[0]) +'\\n' +  str_detector_y + str(0) + '\\n' + str_detector_z + str(dpos[2]) +'\\n'\n",
    "        str_dec_list.append(str_point)\n",
    "    return str_dec_list\n",
    "print(gen_dec_list(pos))"
   ],
   "metadata": {
    "collapsed": false,
    "pycharm": {
     "name": "#%%\n"
    }
   }
  },
  {
   "cell_type": "code",
   "execution_count": 112,
   "outputs": [
    {
     "data": {
      "text/plain": "(['\\n/control/verbose 0\\n/run/verbose 0\\n/HPGe_simulation/det/setDetectorMoveX 243.8\\n/HPGe_simulation/det/setDetectorMoveY 0\\n/HPGe_simulation/det/setDetectorMoveZ 221.83333333333334\\n\\n/run/numberOfThreads 16\\n/run/initialize\\n/gps/particle gamma\\n/gps/pos/type Point\\n/gps/pos/centre 0 0 0 mm\\n\\n/gps/ang/type iso\\n/gps/ang/mintheta 0 deg\\n/gps/ang/maxtheta 180 deg\\n/gps/ang/minphi 0 deg\\n/gps/ang/maxphi 180 deg\\n/gps/energy 1.3325 MeV\\n\\n/run/beamOn 10000000\\n',\n  '\\n/control/verbose 0\\n/run/verbose 0\\n/HPGe_simulation/det/setDetectorMoveX 243.8\\n/HPGe_simulation/det/setDetectorMoveY 0\\n/HPGe_simulation/det/setDetectorMoveZ 665.5\\n\\n/run/numberOfThreads 16\\n/run/initialize\\n/gps/particle gamma\\n/gps/pos/type Point\\n/gps/pos/centre 0 0 0 mm\\n\\n/gps/ang/type iso\\n/gps/ang/mintheta 0 deg\\n/gps/ang/maxtheta 180 deg\\n/gps/ang/minphi 0 deg\\n/gps/ang/maxphi 180 deg\\n/gps/energy 1.3325 MeV\\n\\n/run/beamOn 10000000\\n',\n  '\\n/control/verbose 0\\n/run/verbose 0\\n/HPGe_simulation/det/setDetectorMoveX 243.8\\n/HPGe_simulation/det/setDetectorMoveY 0\\n/HPGe_simulation/det/setDetectorMoveZ 1109.1666666666667\\n\\n/run/numberOfThreads 16\\n/run/initialize\\n/gps/particle gamma\\n/gps/pos/type Point\\n/gps/pos/centre 0 0 0 mm\\n\\n/gps/ang/type iso\\n/gps/ang/mintheta 0 deg\\n/gps/ang/maxtheta 180 deg\\n/gps/ang/minphi 0 deg\\n/gps/ang/maxphi 180 deg\\n/gps/energy 1.3325 MeV\\n\\n/run/beamOn 10000000\\n',\n  '\\n/control/verbose 0\\n/run/verbose 0\\n/HPGe_simulation/det/setDetectorMoveX 731.4000000000001\\n/HPGe_simulation/det/setDetectorMoveY 0\\n/HPGe_simulation/det/setDetectorMoveZ 221.83333333333334\\n\\n/run/numberOfThreads 16\\n/run/initialize\\n/gps/particle gamma\\n/gps/pos/type Point\\n/gps/pos/centre 0 0 0 mm\\n\\n/gps/ang/type iso\\n/gps/ang/mintheta 0 deg\\n/gps/ang/maxtheta 180 deg\\n/gps/ang/minphi 0 deg\\n/gps/ang/maxphi 180 deg\\n/gps/energy 1.3325 MeV\\n\\n/run/beamOn 10000000\\n',\n  '\\n/control/verbose 0\\n/run/verbose 0\\n/HPGe_simulation/det/setDetectorMoveX 731.4000000000001\\n/HPGe_simulation/det/setDetectorMoveY 0\\n/HPGe_simulation/det/setDetectorMoveZ 665.5\\n\\n/run/numberOfThreads 16\\n/run/initialize\\n/gps/particle gamma\\n/gps/pos/type Point\\n/gps/pos/centre 0 0 0 mm\\n\\n/gps/ang/type iso\\n/gps/ang/mintheta 0 deg\\n/gps/ang/maxtheta 180 deg\\n/gps/ang/minphi 0 deg\\n/gps/ang/maxphi 180 deg\\n/gps/energy 1.3325 MeV\\n\\n/run/beamOn 10000000\\n',\n  '\\n/control/verbose 0\\n/run/verbose 0\\n/HPGe_simulation/det/setDetectorMoveX 731.4000000000001\\n/HPGe_simulation/det/setDetectorMoveY 0\\n/HPGe_simulation/det/setDetectorMoveZ 1109.1666666666667\\n\\n/run/numberOfThreads 16\\n/run/initialize\\n/gps/particle gamma\\n/gps/pos/type Point\\n/gps/pos/centre 0 0 0 mm\\n\\n/gps/ang/type iso\\n/gps/ang/mintheta 0 deg\\n/gps/ang/maxtheta 180 deg\\n/gps/ang/minphi 0 deg\\n/gps/ang/maxphi 180 deg\\n/gps/energy 1.3325 MeV\\n\\n/run/beamOn 10000000\\n',\n  '\\n/control/verbose 0\\n/run/verbose 0\\n/HPGe_simulation/det/setDetectorMoveX 1219.0\\n/HPGe_simulation/det/setDetectorMoveY 0\\n/HPGe_simulation/det/setDetectorMoveZ 221.83333333333334\\n\\n/run/numberOfThreads 16\\n/run/initialize\\n/gps/particle gamma\\n/gps/pos/type Point\\n/gps/pos/centre 0 0 0 mm\\n\\n/gps/ang/type iso\\n/gps/ang/mintheta 0 deg\\n/gps/ang/maxtheta 180 deg\\n/gps/ang/minphi 0 deg\\n/gps/ang/maxphi 180 deg\\n/gps/energy 1.3325 MeV\\n\\n/run/beamOn 10000000\\n',\n  '\\n/control/verbose 0\\n/run/verbose 0\\n/HPGe_simulation/det/setDetectorMoveX 1219.0\\n/HPGe_simulation/det/setDetectorMoveY 0\\n/HPGe_simulation/det/setDetectorMoveZ 665.5\\n\\n/run/numberOfThreads 16\\n/run/initialize\\n/gps/particle gamma\\n/gps/pos/type Point\\n/gps/pos/centre 0 0 0 mm\\n\\n/gps/ang/type iso\\n/gps/ang/mintheta 0 deg\\n/gps/ang/maxtheta 180 deg\\n/gps/ang/minphi 0 deg\\n/gps/ang/maxphi 180 deg\\n/gps/energy 1.3325 MeV\\n\\n/run/beamOn 10000000\\n',\n  '\\n/control/verbose 0\\n/run/verbose 0\\n/HPGe_simulation/det/setDetectorMoveX 1219.0\\n/HPGe_simulation/det/setDetectorMoveY 0\\n/HPGe_simulation/det/setDetectorMoveZ 1109.1666666666667\\n\\n/run/numberOfThreads 16\\n/run/initialize\\n/gps/particle gamma\\n/gps/pos/type Point\\n/gps/pos/centre 0 0 0 mm\\n\\n/gps/ang/type iso\\n/gps/ang/mintheta 0 deg\\n/gps/ang/maxtheta 180 deg\\n/gps/ang/minphi 0 deg\\n/gps/ang/maxphi 180 deg\\n/gps/energy 1.3325 MeV\\n\\n/run/beamOn 10000000\\n',\n  '\\n/control/verbose 0\\n/run/verbose 0\\n/HPGe_simulation/det/setDetectorMoveX 1706.6000000000001\\n/HPGe_simulation/det/setDetectorMoveY 0\\n/HPGe_simulation/det/setDetectorMoveZ 221.83333333333334\\n\\n/run/numberOfThreads 16\\n/run/initialize\\n/gps/particle gamma\\n/gps/pos/type Point\\n/gps/pos/centre 0 0 0 mm\\n\\n/gps/ang/type iso\\n/gps/ang/mintheta 0 deg\\n/gps/ang/maxtheta 180 deg\\n/gps/ang/minphi 0 deg\\n/gps/ang/maxphi 180 deg\\n/gps/energy 1.3325 MeV\\n\\n/run/beamOn 10000000\\n',\n  '\\n/control/verbose 0\\n/run/verbose 0\\n/HPGe_simulation/det/setDetectorMoveX 1706.6000000000001\\n/HPGe_simulation/det/setDetectorMoveY 0\\n/HPGe_simulation/det/setDetectorMoveZ 665.5\\n\\n/run/numberOfThreads 16\\n/run/initialize\\n/gps/particle gamma\\n/gps/pos/type Point\\n/gps/pos/centre 0 0 0 mm\\n\\n/gps/ang/type iso\\n/gps/ang/mintheta 0 deg\\n/gps/ang/maxtheta 180 deg\\n/gps/ang/minphi 0 deg\\n/gps/ang/maxphi 180 deg\\n/gps/energy 1.3325 MeV\\n\\n/run/beamOn 10000000\\n',\n  '\\n/control/verbose 0\\n/run/verbose 0\\n/HPGe_simulation/det/setDetectorMoveX 1706.6000000000001\\n/HPGe_simulation/det/setDetectorMoveY 0\\n/HPGe_simulation/det/setDetectorMoveZ 1109.1666666666667\\n\\n/run/numberOfThreads 16\\n/run/initialize\\n/gps/particle gamma\\n/gps/pos/type Point\\n/gps/pos/centre 0 0 0 mm\\n\\n/gps/ang/type iso\\n/gps/ang/mintheta 0 deg\\n/gps/ang/maxtheta 180 deg\\n/gps/ang/minphi 0 deg\\n/gps/ang/maxphi 180 deg\\n/gps/energy 1.3325 MeV\\n\\n/run/beamOn 10000000\\n',\n  '\\n/control/verbose 0\\n/run/verbose 0\\n/HPGe_simulation/det/setDetectorMoveX 2194.2000000000003\\n/HPGe_simulation/det/setDetectorMoveY 0\\n/HPGe_simulation/det/setDetectorMoveZ 221.83333333333334\\n\\n/run/numberOfThreads 16\\n/run/initialize\\n/gps/particle gamma\\n/gps/pos/type Point\\n/gps/pos/centre 0 0 0 mm\\n\\n/gps/ang/type iso\\n/gps/ang/mintheta 0 deg\\n/gps/ang/maxtheta 180 deg\\n/gps/ang/minphi 0 deg\\n/gps/ang/maxphi 180 deg\\n/gps/energy 1.3325 MeV\\n\\n/run/beamOn 10000000\\n',\n  '\\n/control/verbose 0\\n/run/verbose 0\\n/HPGe_simulation/det/setDetectorMoveX 2194.2000000000003\\n/HPGe_simulation/det/setDetectorMoveY 0\\n/HPGe_simulation/det/setDetectorMoveZ 665.5\\n\\n/run/numberOfThreads 16\\n/run/initialize\\n/gps/particle gamma\\n/gps/pos/type Point\\n/gps/pos/centre 0 0 0 mm\\n\\n/gps/ang/type iso\\n/gps/ang/mintheta 0 deg\\n/gps/ang/maxtheta 180 deg\\n/gps/ang/minphi 0 deg\\n/gps/ang/maxphi 180 deg\\n/gps/energy 1.3325 MeV\\n\\n/run/beamOn 10000000\\n',\n  '\\n/control/verbose 0\\n/run/verbose 0\\n/HPGe_simulation/det/setDetectorMoveX 2194.2000000000003\\n/HPGe_simulation/det/setDetectorMoveY 0\\n/HPGe_simulation/det/setDetectorMoveZ 1109.1666666666667\\n\\n/run/numberOfThreads 16\\n/run/initialize\\n/gps/particle gamma\\n/gps/pos/type Point\\n/gps/pos/centre 0 0 0 mm\\n\\n/gps/ang/type iso\\n/gps/ang/mintheta 0 deg\\n/gps/ang/maxtheta 180 deg\\n/gps/ang/minphi 0 deg\\n/gps/ang/maxphi 180 deg\\n/gps/energy 1.3325 MeV\\n\\n/run/beamOn 10000000\\n'],\n [0, 1, 2, 3, 4, 5, 6, 7, 8, 9, 10, 11, 12, 13, 14])"
     },
     "execution_count": 112,
     "metadata": {},
     "output_type": "execute_result"
    }
   ],
   "source": [
    "def gen_point_str(x_pos=0,y_pos=0,z_pos=0):\n",
    "    str_point = str(x_pos) +' ' +  str(y_pos) + ' ' + str(z_pos) +' ' + 'mm\\n'\n",
    "    return str_point\n",
    "def gen_point_mac(thread_num=16, run_num=1e7,x_pos=0,y_pos=0,z_pos=0):\n",
    "    str_verbose_level = \"\"\"\n",
    "/control/verbose 0\n",
    "/run/verbose 0\n",
    "\"\"\"\n",
    "    str_gps_point = \"\"\"\n",
    "/run/numberOfThreads 16\n",
    "/run/initialize\n",
    "/gps/particle gamma\n",
    "/gps/pos/type Point\n",
    "/gps/pos/centre 1219 981.5 221.8333 mm\n",
    "/gps/ang/type iso\n",
    "/gps/ang/mintheta 0 deg\n",
    "/gps/ang/maxtheta 180 deg\n",
    "/gps/ang/minphi 0 deg\n",
    "/gps/ang/maxphi 180 deg\n",
    "/gps/energy 1.3325 MeV\n",
    "\n",
    "/run/beamOn 100000000\n",
    "\"\"\"\n",
    "    gps_pos_patt = re.compile(r\"(?<=/gps/pos/centre\\s).*\")\n",
    "    threads_patt = re.compile(r\"(?<=/run/numberOfThreads\\s).*\")\n",
    "    run_patt = re.compile(r\"(?<=/run/beamOn\\s).*\")\n",
    "    thread_num =  str(thread_num)\n",
    "    run_num = str(int(run_num))\n",
    "\n",
    "    str_dec_list = gen_dec_list()\n",
    "    num = len(str_dec_list)\n",
    "    mac = [None] * num\n",
    "    mac_name = [None] * num\n",
    "    str_point = str(x_pos) +' ' +  str(y_pos) + ' ' + str(z_pos) +' ' + 'mm\\n'\n",
    "    for i, dec_pos in enumerate(str_dec_list):\n",
    "        mac[i] = str_verbose_level\n",
    "        mac[i] += dec_pos\n",
    "        mac[i] += str_gps_point\n",
    "        mac[i] = re.sub(gps_pos_patt, str_point, mac[i])\n",
    "        mac[i] = re.sub(threads_patt, thread_num, mac[i])\n",
    "        mac[i] = re.sub(run_patt, run_num, mac[i])\n",
    "        mac_name[i] = i\n",
    "    return mac, mac_name\n",
    "gen_point_mac(thread_num=16, run_num=1e7,x_pos=0,y_pos=0,z_pos=0)"
   ],
   "metadata": {
    "collapsed": false,
    "pycharm": {
     "name": "#%%\n"
    }
   }
  },
  {
   "cell_type": "code",
   "execution_count": 113,
   "outputs": [
    {
     "name": "stdout",
     "output_type": "stream",
     "text": [
      "generate mac succeed\n"
     ]
    }
   ],
   "source": [
    "def output_mac_file(mac_dir=r'..\\mac\\\\'):\n",
    "    mac, mac_name = gen_point_mac(thread_num=16, run_num=1e7,x_pos=pos[2][0][1][0],y_pos=pos[2][0][1][1],z_pos=pos[2][0][1][2])\n",
    "    for i,m in enumerate(mac):\n",
    "        with open(mac_dir+str(mac_name[i]) + '.mac', 'w') as f:\n",
    "            f.write(m)\n",
    "            f.close()\n",
    "print('generate mac succeed')\n",
    "output_mac_file()"
   ],
   "metadata": {
    "collapsed": false,
    "pycharm": {
     "name": "#%%\n"
    }
   }
  },
  {
   "cell_type": "code",
   "execution_count": 113,
   "outputs": [],
   "source": [],
   "metadata": {
    "collapsed": false,
    "pycharm": {
     "name": "#%%\n"
    }
   }
  },
  {
   "cell_type": "code",
   "execution_count": 114,
   "outputs": [
    {
     "name": "stdout",
     "output_type": "stream",
     "text": [
      "[[ 243.8         740.75        221.83333333]\n",
      " [ 243.8         740.75        665.5       ]\n",
      " [ 243.8         740.75       1109.16666667]\n",
      " [ 731.4         740.75        221.83333333]\n",
      " [ 731.4         740.75        665.5       ]\n",
      " [ 731.4         740.75       1109.16666667]\n",
      " [1219.          740.75        221.83333333]\n",
      " [1219.          740.75        665.5       ]\n",
      " [1219.          740.75       1109.16666667]\n",
      " [1706.6         740.75        221.83333333]\n",
      " [1706.6         740.75        665.5       ]\n",
      " [1706.6         740.75       1109.16666667]\n",
      " [2194.2         740.75        221.83333333]\n",
      " [2194.2         740.75        665.5       ]\n",
      " [2194.2         740.75       1109.16666667]]\n",
      "(15, 3)\n"
     ]
    }
   ],
   "source": [
    "new_pos = pos[:,0,:,:].reshape(15,-1)\n",
    "print(new_pos)\n",
    "print(new_pos.shape)"
   ],
   "metadata": {
    "collapsed": false,
    "pycharm": {
     "name": "#%%\n"
    }
   }
  }
 ],
 "metadata": {
  "kernelspec": {
   "display_name": "Python 3",
   "language": "python",
   "name": "python3"
  },
  "language_info": {
   "codemirror_mode": {
    "name": "ipython",
    "version": 2
   },
   "file_extension": ".py",
   "mimetype": "text/x-python",
   "name": "python",
   "nbconvert_exporter": "python",
   "pygments_lexer": "ipython2",
   "version": "2.7.6"
  }
 },
 "nbformat": 4,
 "nbformat_minor": 0
}