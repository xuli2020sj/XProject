{
 "cells": [
  {
   "cell_type": "raw",
   "metadata": {
    "collapsed": true,
    "pycharm": {
     "name": "#%% raw\n"
    }
   },
   "source": []
  },
  {
   "cell_type": "code",
   "execution_count": 1,
   "outputs": [],
   "source": [
    "import math"
   ],
   "metadata": {
    "collapsed": false,
    "pycharm": {
     "name": "#%%\n"
    }
   }
  },
  {
   "cell_type": "code",
   "execution_count": 8,
   "outputs": [
    {
     "name": "stdout",
     "output_type": "stream",
     "text": [
      "-0.5000000000000001 -0.5000000000000001 -0.7071067811865476\n"
     ]
    }
   ],
   "source": [
    "deg1 = 45\n",
    "deg2 = 45\n",
    "rad1 = math.radians(deg1)\n",
    "rad2 = math.radians(deg2)\n",
    "\n",
    "px = -math.sin(rad1) * math.cos(rad2)\n",
    "py = -math.sin(rad1) * math.sin(rad2)\n",
    "pz = -math.cos(rad1)\n",
    "print(px, py, pz)"
   ],
   "metadata": {
    "collapsed": false,
    "pycharm": {
     "name": "#%%\n"
    }
   }
  },
  {
   "cell_type": "code",
   "execution_count": 2,
   "outputs": [
    {
     "name": "stdout",
     "output_type": "stream",
     "text": [
      "0.0003806\n"
     ]
    }
   ],
   "source": [
    "def cal_ratio(mintheta, maxtheta, minphi, maxphi):\n",
    "    t_ratio = (maxtheta - mintheta) / 180\n",
    "    p_ratio = (maxphi - minphi) / 360\n",
    "    return t_ratio * p_ratio;\n",
    "ratio = cal_ratio(0, 180, 0, 180)\n",
    "efficiency = 0.0007612 * ratio\n",
    "print(efficiency)"
   ],
   "metadata": {
    "collapsed": false,
    "pycharm": {
     "name": "#%%\n"
    }
   }
  },
  {
   "cell_type": "code",
   "execution_count": 2,
   "outputs": [],
   "source": [
    "with open(r'C:\\Users\\X\\PycharmProjects\\XProject\\9mac.txt', 'w') as f:\n",
    "    str_centre = \"/gps/pos/centre \"\n",
    "    str_run = \"/run/beamOn \"\n",
    "    str_energy = \"/gps/energy \"\n",
    "    runTime = 100000000\n",
    "    # for x in range(0, 0, 1000) :\n",
    "    # for energy in [46.52, 59.54,88.03,122.1,165.85,391.69,661.7,898.06,1173.24,1332.5,1836.08] :\n",
    "    for y in range(500, 1500, 5) :\n",
    "        # f.write(str_energy + str(energy) + ' keV' + '\\r')\n",
    "        f.write(str_centre + str(1219) + ' ' + str(y) + ' ' + str(665.5) + ' mm' + '\\r')\n",
    "        f.write(str_run + str(runTime) + '\\r')"
   ],
   "metadata": {
    "collapsed": false,
    "pycharm": {
     "name": "#%%\n"
    }
   }
  },
  {
   "cell_type": "code",
   "execution_count": 10,
   "outputs": [
    {
     "data": {
      "text/plain": "0.0002810693864511039"
     },
     "execution_count": 10,
     "metadata": {},
     "output_type": "execute_result"
    }
   ],
   "source": [
    "import math\n",
    "math.sqrt(0.000000079)"
   ],
   "metadata": {
    "collapsed": false,
    "pycharm": {
     "name": "#%%\n"
    }
   }
  },
  {
   "cell_type": "code",
   "execution_count": 5,
   "outputs": [],
   "source": [
    "import numpy as np\n",
    "x_len = 2438\n",
    "y_len = 1926\n",
    "z_len = 1331\n",
    "\n",
    "half_x = x_len / 2\n",
    "half_y = y_len / 2\n",
    "half_z = z_len / 2\n",
    "\n",
    "\n",
    "x_num = 5\n",
    "y_num = 2\n",
    "z_num = 3\n",
    "halfx = x_len / x_num / 2\n",
    "halfy = y_len / y_num / 2\n",
    "halfz = z_len / z_num / 2\n"
   ],
   "metadata": {
    "collapsed": false,
    "pycharm": {
     "name": "#%%\n"
    }
   }
  }
 ],
 "metadata": {
  "kernelspec": {
   "display_name": "Python 3",
   "language": "python",
   "name": "python3"
  },
  "language_info": {
   "codemirror_mode": {
    "name": "ipython",
    "version": 2
   },
   "file_extension": ".py",
   "mimetype": "text/x-python",
   "name": "python",
   "nbconvert_exporter": "python",
   "pygments_lexer": "ipython2",
   "version": "2.7.6"
  }
 },
 "nbformat": 4,
 "nbformat_minor": 0
}